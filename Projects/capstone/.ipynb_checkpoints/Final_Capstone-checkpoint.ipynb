{
 "cells": [
  {
   "cell_type": "markdown",
   "metadata": {},
   "source": [
    "# Nanodegree Engenheiro de Machine Learning\n",
    "## Projeto final\n",
    "Gleber Antunes Baptistella  \n",
    "Fevereiro de 2018\n",
    "\n",
    "## I. Definição\n",
    "\n",
    "### Visão geral do projeto\n",
    "A área de Reconhecimento de Atividades Humanas (RAH) está em franca expansão, com dispositivos e sensores cada vez mais fazendo parte do dia-a-dia das pessoas.\n",
    "\n",
    "Suas pesquisas podem ser aplicadas em diversas áreas, entre elas da saúde (melhorando a detecção e diagnósticos de doenças) e de práticas esportivas, visando a melhoria do desempenho do indivíduo.\n",
    "\n",
    "### Descrição do problema\n",
    "Este projeto tem como objetivo identificar uma determinada postura de um indivíduo após a coleta de dados através de sensores que foram previamente dispostos no corpo da pessoa.\n",
    "O embasamento deste projeto encontra-se em [**http://groupware.les.inf.puc-rio.br/har**](http://groupware.les.inf.puc-rio.br/har), bem como o dataset utilizado.\n",
    "\n",
    "O dataset disponibilizado está em formato CSV e está bem estruturado, facilitando a leitura.\n",
    "\n",
    "A saída do processamento é um valor categórico que representa a posição do indivíduo e suas possibilidades são: sitting, sittingdown, standing, standingup, walking. Em português seria algo como: sentado, sentando, de pé, levantando e andando. \n",
    "\n",
    "Dessa forma, trata-se de um problema de aprendizado supervisionado de classificação.\n",
    "\n",
    "Irei avaliar outros algoritmos de classificação diferentes do usado no artigo da PUC Rio, buscando um desempenho superior ao obtido.\n",
    "\n",
    "### Modelo de referência (benchmark)\n",
    "Neste projeto teremos dois modelos de referência:\n",
    "\n",
    "1. O resultado do artigo original\n",
    "2. A execução sem refinamento dos outros três algoritmos.\n",
    "\n",
    "Enquanto tentamos superar o resultado do artigo original (o que pode não ser possível), tentaremos refinar os outros três algoritmos através de mudanças em seus hiper-parâmetros para obtermos resultados melhores.\n",
    "\n",
    "### Métricas de avaliação\n",
    "As métricas para avaliação dos modelos serão:\n",
    "\n",
    "1. Recall\n",
    "2. Precision\n",
    "3. F1\n",
    "4. ROC\n"
   ]
  },
  {
   "cell_type": "markdown",
   "metadata": {},
   "source": [
    "## II. Análise\n",
    "\n",
    "### Exploração de dados\n",
    "\n",
    "No problema apresentado temos informações pessoais, bem como informações dos eixo x, y e z de cada sensor disposto pelo corpo dos indivíduos."
   ]
  },
  {
   "cell_type": "code",
   "execution_count": 1,
   "metadata": {},
   "outputs": [
    {
     "name": "stdout",
     "output_type": "stream",
     "text": [
      "Dados de treinamento lidos com sucesso!\n",
      "Total de linhas:  165633\n"
     ]
    }
   ],
   "source": [
    "# Importando as bibliotecas\n",
    "import numpy as np\n",
    "import pandas as pd\n",
    "import matplotlib.pyplot as plt\n",
    "import seaborn as sns\n",
    "from sklearn.preprocessing import label_binarize\n",
    "from __future__ import division\n",
    "%matplotlib inline\n",
    "sns.set()\n",
    "# Lendo os dados de treinamento\n",
    "wearable_data = pd.read_csv(\"dataset-har-PUC-Rio-ugulino.csv\", delimiter=';')\n",
    "print(\"Dados de treinamento lidos com sucesso!\")\n",
    "print(\"Total de linhas: \",len(wearable_data.index))\n",
    "#wearable_data.describe()"
   ]
  },
  {
   "cell_type": "code",
   "execution_count": 2,
   "metadata": {},
   "outputs": [
    {
     "data": {
      "text/html": [
       "<div>\n",
       "<style>\n",
       "    .dataframe thead tr:only-child th {\n",
       "        text-align: right;\n",
       "    }\n",
       "\n",
       "    .dataframe thead th {\n",
       "        text-align: left;\n",
       "    }\n",
       "\n",
       "    .dataframe tbody tr th {\n",
       "        vertical-align: top;\n",
       "    }\n",
       "</style>\n",
       "<table border=\"1\" class=\"dataframe\">\n",
       "  <thead>\n",
       "    <tr style=\"text-align: right;\">\n",
       "      <th></th>\n",
       "      <th>user</th>\n",
       "      <th>gender</th>\n",
       "      <th>age</th>\n",
       "      <th>how_tall_in_meters</th>\n",
       "      <th>weight</th>\n",
       "      <th>body_mass_index</th>\n",
       "      <th>x1</th>\n",
       "      <th>y1</th>\n",
       "      <th>z1</th>\n",
       "      <th>x2</th>\n",
       "      <th>y2</th>\n",
       "      <th>z2</th>\n",
       "      <th>x3</th>\n",
       "      <th>y3</th>\n",
       "      <th>z3</th>\n",
       "      <th>x4</th>\n",
       "      <th>y4</th>\n",
       "      <th>z4</th>\n",
       "      <th>class</th>\n",
       "    </tr>\n",
       "  </thead>\n",
       "  <tbody>\n",
       "    <tr>\n",
       "      <th>count</th>\n",
       "      <td>165633</td>\n",
       "      <td>165633</td>\n",
       "      <td>165633.000000</td>\n",
       "      <td>165633.000000</td>\n",
       "      <td>165633.000000</td>\n",
       "      <td>165633.000000</td>\n",
       "      <td>165633.000000</td>\n",
       "      <td>165633.000000</td>\n",
       "      <td>165633.000000</td>\n",
       "      <td>165633.000000</td>\n",
       "      <td>165633.000000</td>\n",
       "      <td>165633.000000</td>\n",
       "      <td>165633.000000</td>\n",
       "      <td>165633.000000</td>\n",
       "      <td>165633.000000</td>\n",
       "      <td>165633.000000</td>\n",
       "      <td>165633.000000</td>\n",
       "      <td>165633.000000</td>\n",
       "      <td>165633</td>\n",
       "    </tr>\n",
       "    <tr>\n",
       "      <th>unique</th>\n",
       "      <td>4</td>\n",
       "      <td>2</td>\n",
       "      <td>NaN</td>\n",
       "      <td>NaN</td>\n",
       "      <td>NaN</td>\n",
       "      <td>NaN</td>\n",
       "      <td>NaN</td>\n",
       "      <td>NaN</td>\n",
       "      <td>NaN</td>\n",
       "      <td>NaN</td>\n",
       "      <td>NaN</td>\n",
       "      <td>NaN</td>\n",
       "      <td>NaN</td>\n",
       "      <td>NaN</td>\n",
       "      <td>NaN</td>\n",
       "      <td>NaN</td>\n",
       "      <td>NaN</td>\n",
       "      <td>NaN</td>\n",
       "      <td>5</td>\n",
       "    </tr>\n",
       "    <tr>\n",
       "      <th>top</th>\n",
       "      <td>debora</td>\n",
       "      <td>Woman</td>\n",
       "      <td>NaN</td>\n",
       "      <td>NaN</td>\n",
       "      <td>NaN</td>\n",
       "      <td>NaN</td>\n",
       "      <td>NaN</td>\n",
       "      <td>NaN</td>\n",
       "      <td>NaN</td>\n",
       "      <td>NaN</td>\n",
       "      <td>NaN</td>\n",
       "      <td>NaN</td>\n",
       "      <td>NaN</td>\n",
       "      <td>NaN</td>\n",
       "      <td>NaN</td>\n",
       "      <td>NaN</td>\n",
       "      <td>NaN</td>\n",
       "      <td>NaN</td>\n",
       "      <td>sitting</td>\n",
       "    </tr>\n",
       "    <tr>\n",
       "      <th>freq</th>\n",
       "      <td>51577</td>\n",
       "      <td>101374</td>\n",
       "      <td>NaN</td>\n",
       "      <td>NaN</td>\n",
       "      <td>NaN</td>\n",
       "      <td>NaN</td>\n",
       "      <td>NaN</td>\n",
       "      <td>NaN</td>\n",
       "      <td>NaN</td>\n",
       "      <td>NaN</td>\n",
       "      <td>NaN</td>\n",
       "      <td>NaN</td>\n",
       "      <td>NaN</td>\n",
       "      <td>NaN</td>\n",
       "      <td>NaN</td>\n",
       "      <td>NaN</td>\n",
       "      <td>NaN</td>\n",
       "      <td>NaN</td>\n",
       "      <td>50631</td>\n",
       "    </tr>\n",
       "    <tr>\n",
       "      <th>mean</th>\n",
       "      <td>NaN</td>\n",
       "      <td>NaN</td>\n",
       "      <td>38.265146</td>\n",
       "      <td>1.639712</td>\n",
       "      <td>70.819408</td>\n",
       "      <td>26.188522</td>\n",
       "      <td>-6.649327</td>\n",
       "      <td>88.293667</td>\n",
       "      <td>-93.164611</td>\n",
       "      <td>-87.827504</td>\n",
       "      <td>-52.065047</td>\n",
       "      <td>-175.055200</td>\n",
       "      <td>17.423515</td>\n",
       "      <td>104.517167</td>\n",
       "      <td>-93.881726</td>\n",
       "      <td>-167.641448</td>\n",
       "      <td>-92.625171</td>\n",
       "      <td>-159.650891</td>\n",
       "      <td>NaN</td>\n",
       "    </tr>\n",
       "    <tr>\n",
       "      <th>std</th>\n",
       "      <td>NaN</td>\n",
       "      <td>NaN</td>\n",
       "      <td>13.184091</td>\n",
       "      <td>0.052820</td>\n",
       "      <td>11.296527</td>\n",
       "      <td>2.995777</td>\n",
       "      <td>11.616238</td>\n",
       "      <td>23.895829</td>\n",
       "      <td>39.409423</td>\n",
       "      <td>169.435194</td>\n",
       "      <td>205.159763</td>\n",
       "      <td>192.816615</td>\n",
       "      <td>52.635388</td>\n",
       "      <td>54.155843</td>\n",
       "      <td>45.389646</td>\n",
       "      <td>38.311342</td>\n",
       "      <td>19.968610</td>\n",
       "      <td>13.221036</td>\n",
       "      <td>NaN</td>\n",
       "    </tr>\n",
       "    <tr>\n",
       "      <th>min</th>\n",
       "      <td>NaN</td>\n",
       "      <td>NaN</td>\n",
       "      <td>28.000000</td>\n",
       "      <td>1.580000</td>\n",
       "      <td>55.000000</td>\n",
       "      <td>22.000000</td>\n",
       "      <td>-306.000000</td>\n",
       "      <td>-271.000000</td>\n",
       "      <td>-603.000000</td>\n",
       "      <td>-494.000000</td>\n",
       "      <td>-517.000000</td>\n",
       "      <td>-617.000000</td>\n",
       "      <td>-499.000000</td>\n",
       "      <td>-506.000000</td>\n",
       "      <td>-613.000000</td>\n",
       "      <td>-702.000000</td>\n",
       "      <td>-526.000000</td>\n",
       "      <td>-537.000000</td>\n",
       "      <td>NaN</td>\n",
       "    </tr>\n",
       "    <tr>\n",
       "      <th>25%</th>\n",
       "      <td>NaN</td>\n",
       "      <td>NaN</td>\n",
       "      <td>28.000000</td>\n",
       "      <td>1.580000</td>\n",
       "      <td>55.000000</td>\n",
       "      <td>22.000000</td>\n",
       "      <td>-12.000000</td>\n",
       "      <td>78.000000</td>\n",
       "      <td>-120.000000</td>\n",
       "      <td>-35.000000</td>\n",
       "      <td>-29.000000</td>\n",
       "      <td>-141.000000</td>\n",
       "      <td>9.000000</td>\n",
       "      <td>95.000000</td>\n",
       "      <td>-103.000000</td>\n",
       "      <td>-190.000000</td>\n",
       "      <td>-103.000000</td>\n",
       "      <td>-167.000000</td>\n",
       "      <td>NaN</td>\n",
       "    </tr>\n",
       "    <tr>\n",
       "      <th>50%</th>\n",
       "      <td>NaN</td>\n",
       "      <td>NaN</td>\n",
       "      <td>31.000000</td>\n",
       "      <td>1.620000</td>\n",
       "      <td>75.000000</td>\n",
       "      <td>28.400000</td>\n",
       "      <td>-6.000000</td>\n",
       "      <td>94.000000</td>\n",
       "      <td>-98.000000</td>\n",
       "      <td>-9.000000</td>\n",
       "      <td>27.000000</td>\n",
       "      <td>-118.000000</td>\n",
       "      <td>22.000000</td>\n",
       "      <td>107.000000</td>\n",
       "      <td>-90.000000</td>\n",
       "      <td>-168.000000</td>\n",
       "      <td>-91.000000</td>\n",
       "      <td>-160.000000</td>\n",
       "      <td>NaN</td>\n",
       "    </tr>\n",
       "    <tr>\n",
       "      <th>75%</th>\n",
       "      <td>NaN</td>\n",
       "      <td>NaN</td>\n",
       "      <td>46.000000</td>\n",
       "      <td>1.710000</td>\n",
       "      <td>83.000000</td>\n",
       "      <td>28.600000</td>\n",
       "      <td>0.000000</td>\n",
       "      <td>101.000000</td>\n",
       "      <td>-64.000000</td>\n",
       "      <td>4.000000</td>\n",
       "      <td>86.000000</td>\n",
       "      <td>-29.000000</td>\n",
       "      <td>34.000000</td>\n",
       "      <td>120.000000</td>\n",
       "      <td>-80.000000</td>\n",
       "      <td>-153.000000</td>\n",
       "      <td>-80.000000</td>\n",
       "      <td>-153.000000</td>\n",
       "      <td>NaN</td>\n",
       "    </tr>\n",
       "    <tr>\n",
       "      <th>max</th>\n",
       "      <td>NaN</td>\n",
       "      <td>NaN</td>\n",
       "      <td>75.000000</td>\n",
       "      <td>1.710000</td>\n",
       "      <td>83.000000</td>\n",
       "      <td>28.600000</td>\n",
       "      <td>509.000000</td>\n",
       "      <td>533.000000</td>\n",
       "      <td>411.000000</td>\n",
       "      <td>473.000000</td>\n",
       "      <td>295.000000</td>\n",
       "      <td>122.000000</td>\n",
       "      <td>507.000000</td>\n",
       "      <td>517.000000</td>\n",
       "      <td>410.000000</td>\n",
       "      <td>-13.000000</td>\n",
       "      <td>86.000000</td>\n",
       "      <td>-43.000000</td>\n",
       "      <td>NaN</td>\n",
       "    </tr>\n",
       "  </tbody>\n",
       "</table>\n",
       "</div>"
      ],
      "text/plain": [
       "          user  gender            age  how_tall_in_meters         weight  \\\n",
       "count   165633  165633  165633.000000       165633.000000  165633.000000   \n",
       "unique       4       2            NaN                 NaN            NaN   \n",
       "top     debora   Woman            NaN                 NaN            NaN   \n",
       "freq     51577  101374            NaN                 NaN            NaN   \n",
       "mean       NaN     NaN      38.265146            1.639712      70.819408   \n",
       "std        NaN     NaN      13.184091            0.052820      11.296527   \n",
       "min        NaN     NaN      28.000000            1.580000      55.000000   \n",
       "25%        NaN     NaN      28.000000            1.580000      55.000000   \n",
       "50%        NaN     NaN      31.000000            1.620000      75.000000   \n",
       "75%        NaN     NaN      46.000000            1.710000      83.000000   \n",
       "max        NaN     NaN      75.000000            1.710000      83.000000   \n",
       "\n",
       "        body_mass_index             x1             y1             z1  \\\n",
       "count     165633.000000  165633.000000  165633.000000  165633.000000   \n",
       "unique              NaN            NaN            NaN            NaN   \n",
       "top                 NaN            NaN            NaN            NaN   \n",
       "freq                NaN            NaN            NaN            NaN   \n",
       "mean          26.188522      -6.649327      88.293667     -93.164611   \n",
       "std            2.995777      11.616238      23.895829      39.409423   \n",
       "min           22.000000    -306.000000    -271.000000    -603.000000   \n",
       "25%           22.000000     -12.000000      78.000000    -120.000000   \n",
       "50%           28.400000      -6.000000      94.000000     -98.000000   \n",
       "75%           28.600000       0.000000     101.000000     -64.000000   \n",
       "max           28.600000     509.000000     533.000000     411.000000   \n",
       "\n",
       "                   x2             y2             z2             x3  \\\n",
       "count   165633.000000  165633.000000  165633.000000  165633.000000   \n",
       "unique            NaN            NaN            NaN            NaN   \n",
       "top               NaN            NaN            NaN            NaN   \n",
       "freq              NaN            NaN            NaN            NaN   \n",
       "mean       -87.827504     -52.065047    -175.055200      17.423515   \n",
       "std        169.435194     205.159763     192.816615      52.635388   \n",
       "min       -494.000000    -517.000000    -617.000000    -499.000000   \n",
       "25%        -35.000000     -29.000000    -141.000000       9.000000   \n",
       "50%         -9.000000      27.000000    -118.000000      22.000000   \n",
       "75%          4.000000      86.000000     -29.000000      34.000000   \n",
       "max        473.000000     295.000000     122.000000     507.000000   \n",
       "\n",
       "                   y3             z3             x4             y4  \\\n",
       "count   165633.000000  165633.000000  165633.000000  165633.000000   \n",
       "unique            NaN            NaN            NaN            NaN   \n",
       "top               NaN            NaN            NaN            NaN   \n",
       "freq              NaN            NaN            NaN            NaN   \n",
       "mean       104.517167     -93.881726    -167.641448     -92.625171   \n",
       "std         54.155843      45.389646      38.311342      19.968610   \n",
       "min       -506.000000    -613.000000    -702.000000    -526.000000   \n",
       "25%         95.000000    -103.000000    -190.000000    -103.000000   \n",
       "50%        107.000000     -90.000000    -168.000000     -91.000000   \n",
       "75%        120.000000     -80.000000    -153.000000     -80.000000   \n",
       "max        517.000000     410.000000     -13.000000      86.000000   \n",
       "\n",
       "                   z4    class  \n",
       "count   165633.000000   165633  \n",
       "unique            NaN        5  \n",
       "top               NaN  sitting  \n",
       "freq              NaN    50631  \n",
       "mean      -159.650891      NaN  \n",
       "std         13.221036      NaN  \n",
       "min       -537.000000      NaN  \n",
       "25%       -167.000000      NaN  \n",
       "50%       -160.000000      NaN  \n",
       "75%       -153.000000      NaN  \n",
       "max        -43.000000      NaN  "
      ]
     },
     "execution_count": 2,
     "metadata": {},
     "output_type": "execute_result"
    }
   ],
   "source": [
    "wearable_data.describe(include='all')"
   ]
  },
  {
   "cell_type": "markdown",
   "metadata": {},
   "source": [
    "Não há missing values. Todos as colunas possuem o mesmo valor de _count_ da quantidade total de linhas (165.633).\n",
    "\n",
    "Abaixo podemos ver os tipos de dados de cada variável."
   ]
  },
  {
   "cell_type": "code",
   "execution_count": 3,
   "metadata": {},
   "outputs": [
    {
     "name": "stdout",
     "output_type": "stream",
     "text": [
      "<class 'pandas.core.frame.DataFrame'>\n",
      "RangeIndex: 165633 entries, 0 to 165632\n",
      "Data columns (total 19 columns):\n",
      "user                  165633 non-null object\n",
      "gender                165633 non-null object\n",
      "age                   165633 non-null int64\n",
      "how_tall_in_meters    165633 non-null float64\n",
      "weight                165633 non-null int64\n",
      "body_mass_index       165633 non-null float64\n",
      "x1                    165633 non-null int64\n",
      "y1                    165633 non-null int64\n",
      "z1                    165633 non-null int64\n",
      "x2                    165633 non-null int64\n",
      "y2                    165633 non-null int64\n",
      "z2                    165633 non-null int64\n",
      "x3                    165633 non-null int64\n",
      "y3                    165633 non-null int64\n",
      "z3                    165633 non-null int64\n",
      "x4                    165633 non-null int64\n",
      "y4                    165633 non-null int64\n",
      "z4                    165633 non-null int64\n",
      "class                 165633 non-null object\n",
      "dtypes: float64(2), int64(14), object(3)\n",
      "memory usage: 24.0+ MB\n"
     ]
    }
   ],
   "source": [
    "wearable_data.info()"
   ]
  },
  {
   "cell_type": "markdown",
   "metadata": {},
   "source": [
    "## III. Metodologia"
   ]
  },
  {
   "cell_type": "markdown",
   "metadata": {},
   "source": [
    "### Dividindo _features_ e o _target_\n",
    "\n",
    "O target trata-se da coluna _class_. Das _features_ removi a coluna _user_, já que acredito não fazer muito sentido para o modelo. Em seguida iremos substituir as variáveis categóricas que estão no formato _String_ para o formato numérico."
   ]
  },
  {
   "cell_type": "code",
   "execution_count": 4,
   "metadata": {
    "collapsed": true
   },
   "outputs": [],
   "source": [
    "y_all = wearable_data['class'].to_frame()\n",
    "X_all = wearable_data.drop(['user', 'class'], axis=1)\n",
    "\n",
    "gender_nums = {\"gender\":{\"Woman\": 0, \"Man\": 1}}\n",
    "X_all.replace(gender_nums, inplace=True)\n",
    "\n",
    "class_nums = {\"class\":{'sitting':0, 'sittingdown':1, 'standing':2, 'standingup':3, 'walking':4}}\n",
    "y_all.replace(class_nums, inplace=True)"
   ]
  },
  {
   "cell_type": "markdown",
   "metadata": {},
   "source": [
    "### Verificando se há desbalanceamento do _target_\n",
    "Em muitos casos encontramos situações onde uma determinada classe do _target_ possuem poucas amostras. Isso pode influenciar no resultado do modelo."
   ]
  },
  {
   "cell_type": "code",
   "execution_count": 5,
   "metadata": {},
   "outputs": [
    {
     "data": {
      "text/plain": [
       "<matplotlib.axes._subplots.AxesSubplot at 0xc612e10>"
      ]
     },
     "execution_count": 5,
     "metadata": {},
     "output_type": "execute_result"
    },
    {
     "data": {
      "image/png": "[encoded data removed]",
      "text/plain": [
       "<matplotlib.figure.Figure at 0x58b97f0>"
      ]
     },
     "metadata": {},
     "output_type": "display_data"
    }
   ],
   "source": [
    "sns.countplot(x=\"class\", data=wearable_data)"
   ]
  },
  {
   "cell_type": "markdown",
   "metadata": {},
   "source": [
    "Como podemos ver no gráfico acima, as classes \"sittingdown\" e \"standingup\" possuem uma quantidade de amostras bem menor que \"sitting\", \"standing\" e \"walking\".\n",
    "\n",
    "Nesta situação podemos fazer o balanceamento reduzindo a quantidade de registros das classes que possuem maior representação, ou criar dados sintéticos para as classes sub-representadas.\n",
    "\n",
    "Neste projeto iremos criar dados sintéticos com a biblioteca [imblearn.over_sampling.SMOTE](http://contrib.scikit-learn.org/imbalanced-learn/stable/generated/imblearn.over_sampling.SMOTE.html)."
   ]
  },
  {
   "cell_type": "code",
   "execution_count": 6,
   "metadata": {},
   "outputs": [
    {
     "data": {
      "text/plain": [
       "<matplotlib.axes._subplots.AxesSubplot at 0x10055c88>"
      ]
     },
     "execution_count": 6,
     "metadata": {},
     "output_type": "execute_result"
    },
    {
     "data": {
      "image/png": "[encoded data removed]",
      "text/plain": [
       "<matplotlib.figure.Figure at 0xc628828>"
      ]
     },
     "metadata": {},
     "output_type": "display_data"
    }
   ],
   "source": [
    "from imblearn.over_sampling import SMOTE\n",
    "sm = SMOTE(random_state=73)\n",
    "X_res, y_res = sm.fit_sample(X_all, y_all.values.ravel())\n",
    "X_all = pd.DataFrame(X_res, columns=X_all.columns)\n",
    "y_all = pd.DataFrame(y_res, columns=y_all.columns)\n",
    "sns.countplot(x=\"class\", data=y_all)"
   ]
  },
  {
   "cell_type": "markdown",
   "metadata": {},
   "source": [
    "Agora todas as classes estão balanceadas."
   ]
  },
  {
   "cell_type": "markdown",
   "metadata": {},
   "source": [
    "### Estabelecendo a baseline\n",
    "\n",
    "A _baseline_ será a execução dos algoritmos GaussianNB, RandomForestClassifier e KNeighborsClassifier sem refinamento dos mesmos, isto é, executarão com seus valores _default_.\n",
    "\n",
    "Será criada afunção `run_all_models` que irá criar o modelo e a predição para os algoritmos escolhidos.\n",
    "\n",
    "Para validar o modelo será feito o cross validation com 10 _folds_ utilizando o [sklearn.model_selection.StratifiedKFold](http://scikit-learn.org/stable/modules/generated/sklearn.model_selection.StratifiedKFold.html)"
   ]
  },
  {
   "cell_type": "code",
   "execution_count": 7,
   "metadata": {
    "collapsed": true
   },
   "outputs": [],
   "source": [
    "from sklearn import model_selection\n",
    "from sklearn.ensemble import RandomForestClassifier\n",
    "from sklearn.neighbors import KNeighborsClassifier\n",
    "from sklearn.naive_bayes import GaussianNB\n",
    "from sklearn.metrics import precision_recall_fscore_support\n",
    "\n",
    "def run_all_models(X, y):\n",
    "    models = []\n",
    "    models.append(('KNN', KNeighborsClassifier()))\n",
    "    models.append(('Randomforest', RandomForestClassifier()))\n",
    "    models.append(('NB', GaussianNB()))\n",
    "    for name, model in models:\n",
    "        score_array =[]\n",
    "\n",
    "        kfold = model_selection.StratifiedKFold(n_splits=10, random_state=1973)\n",
    "        for train_idx, test_idx in kfold.split(X, y):\n",
    "            y_train, y_test = y.iloc[train_idx], y.iloc[test_idx]\n",
    "            X_train, X_test = X.iloc[train_idx], X.iloc[test_idx]  \n",
    "            model.fit(X_train, y_train.values.ravel())\n",
    "            y_pred = model.predict(X_test)\n",
    "            score = precision_recall_fscore_support(y_test, y_pred, average='macro')\n",
    "            score_array.append([score[0], score[1], score[2]])\n",
    "            \n",
    "        print('----------->', name)\n",
    "        avg_score = np.mean(score_array,axis=0)\n",
    "        print(\"Precision:\", avg_score[0])\n",
    "        print(\"Recall:\", avg_score[1])\n",
    "        print(\"F1:\", avg_score[2])"
   ]
  },
  {
   "cell_type": "code",
   "execution_count": 8,
   "metadata": {},
   "outputs": [
    {
     "name": "stdout",
     "output_type": "stream",
     "text": [
      "-----------> KNN\n",
      "Precision: 0.986095050447\n",
      "Recall: 0.984456523164\n",
      "F1: 0.984416111083\n",
      "-----------> Randomforest\n",
      "Precision: 0.983496058247\n",
      "Recall: 0.981320172306\n",
      "F1: 0.981267233485\n",
      "-----------> NB\n",
      "Precision: 0.600421967977\n",
      "Recall: 0.601323450901\n",
      "F1: 0.557303069035\n"
     ]
    }
   ],
   "source": [
    "run_all_models(X_all, y_all)"
   ]
  },
  {
   "cell_type": "markdown",
   "metadata": {},
   "source": [
    "### Resultado da baseline\n",
    "\n",
    "Excluindo o GaussianNB, que teve um desempenho ruim, o KNN e o Random Forest partem de um _baseline_ bastante bom, com o F1 acima de 0.98 (num _range_ de 0 a 1).\n",
    "\n",
    "|              | Precision | Recall | F1     |\n",
    "|--------------|-----------|--------|--------|\n",
    "| KNN          |    0.9860 | 0.9844 | 0.9844 |\n",
    "| RandomForest |    0.9834 | 0.9813 | 0.9812 |\n",
    "| GaussianNB   |    0.6004 | 0.6013 | 0.5573 |"
   ]
  },
  {
   "cell_type": "markdown",
   "metadata": {},
   "source": [
    "## Tratamento dos dados\n",
    "\n",
    "A partir desta sessão iremos trabalhar com os dados, normalizando-os e reduzindo a dimensionalidade"
   ]
  },
  {
   "cell_type": "markdown",
   "metadata": {},
   "source": [
    "### Normalizando a escala dos dados "
   ]
  },
  {
   "cell_type": "code",
   "execution_count": 9,
   "metadata": {},
   "outputs": [
    {
     "data": {
      "text/html": [
       "<div>\n",
       "<style>\n",
       "    .dataframe thead tr:only-child th {\n",
       "        text-align: right;\n",
       "    }\n",
       "\n",
       "    .dataframe thead th {\n",
       "        text-align: left;\n",
       "    }\n",
       "\n",
       "    .dataframe tbody tr th {\n",
       "        vertical-align: top;\n",
       "    }\n",
       "</style>\n",
       "<table border=\"1\" class=\"dataframe\">\n",
       "  <thead>\n",
       "    <tr style=\"text-align: right;\">\n",
       "      <th></th>\n",
       "      <th>gender</th>\n",
       "      <th>age</th>\n",
       "      <th>how_tall_in_meters</th>\n",
       "      <th>weight</th>\n",
       "      <th>body_mass_index</th>\n",
       "      <th>x1</th>\n",
       "      <th>y1</th>\n",
       "      <th>z1</th>\n",
       "      <th>x2</th>\n",
       "      <th>y2</th>\n",
       "      <th>z2</th>\n",
       "      <th>x3</th>\n",
       "      <th>y3</th>\n",
       "      <th>z3</th>\n",
       "      <th>x4</th>\n",
       "      <th>y4</th>\n",
       "      <th>z4</th>\n",
       "    </tr>\n",
       "  </thead>\n",
       "  <tbody>\n",
       "    <tr>\n",
       "      <th>0</th>\n",
       "      <td>0.0</td>\n",
       "      <td>0.382979</td>\n",
       "      <td>0.307692</td>\n",
       "      <td>0.714286</td>\n",
       "      <td>1.0</td>\n",
       "      <td>0.371779</td>\n",
       "      <td>0.451493</td>\n",
       "      <td>0.532544</td>\n",
       "      <td>0.487073</td>\n",
       "      <td>0.658867</td>\n",
       "      <td>0.809202</td>\n",
       "      <td>0.500994</td>\n",
       "      <td>0.596285</td>\n",
       "      <td>0.509286</td>\n",
       "      <td>0.801161</td>\n",
       "      <td>0.691176</td>\n",
       "      <td>0.789474</td>\n",
       "    </tr>\n",
       "    <tr>\n",
       "      <th>1</th>\n",
       "      <td>0.0</td>\n",
       "      <td>0.382979</td>\n",
       "      <td>0.307692</td>\n",
       "      <td>0.714286</td>\n",
       "      <td>1.0</td>\n",
       "      <td>0.371779</td>\n",
       "      <td>0.453980</td>\n",
       "      <td>0.531558</td>\n",
       "      <td>0.489142</td>\n",
       "      <td>0.658867</td>\n",
       "      <td>0.810555</td>\n",
       "      <td>0.482107</td>\n",
       "      <td>0.596285</td>\n",
       "      <td>0.511241</td>\n",
       "      <td>0.802612</td>\n",
       "      <td>0.689542</td>\n",
       "      <td>0.793522</td>\n",
       "    </tr>\n",
       "    <tr>\n",
       "      <th>2</th>\n",
       "      <td>0.0</td>\n",
       "      <td>0.382979</td>\n",
       "      <td>0.307692</td>\n",
       "      <td>0.714286</td>\n",
       "      <td>1.0</td>\n",
       "      <td>0.374233</td>\n",
       "      <td>0.457711</td>\n",
       "      <td>0.534517</td>\n",
       "      <td>0.498449</td>\n",
       "      <td>0.661330</td>\n",
       "      <td>0.814614</td>\n",
       "      <td>0.483101</td>\n",
       "      <td>0.596285</td>\n",
       "      <td>0.511241</td>\n",
       "      <td>0.799710</td>\n",
       "      <td>0.689542</td>\n",
       "      <td>0.795547</td>\n",
       "    </tr>\n",
       "  </tbody>\n",
       "</table>\n",
       "</div>"
      ],
      "text/plain": [
       "   gender       age  how_tall_in_meters    weight  body_mass_index        x1  \\\n",
       "0     0.0  0.382979            0.307692  0.714286              1.0  0.371779   \n",
       "1     0.0  0.382979            0.307692  0.714286              1.0  0.371779   \n",
       "2     0.0  0.382979            0.307692  0.714286              1.0  0.374233   \n",
       "\n",
       "         y1        z1        x2        y2        z2        x3        y3  \\\n",
       "0  0.451493  0.532544  0.487073  0.658867  0.809202  0.500994  0.596285   \n",
       "1  0.453980  0.531558  0.489142  0.658867  0.810555  0.482107  0.596285   \n",
       "2  0.457711  0.534517  0.498449  0.661330  0.814614  0.483101  0.596285   \n",
       "\n",
       "         z3        x4        y4        z4  \n",
       "0  0.509286  0.801161  0.691176  0.789474  \n",
       "1  0.511241  0.802612  0.689542  0.793522  \n",
       "2  0.511241  0.799710  0.689542  0.795547  "
      ]
     },
     "execution_count": 9,
     "metadata": {},
     "output_type": "execute_result"
    }
   ],
   "source": [
    "from sklearn.preprocessing import MinMaxScaler \n",
    "scaler = MinMaxScaler().fit(X_all)\n",
    "X_all_scaled = scaler.transform(X_all)\n",
    "X_all_scaled = pd.DataFrame(X_all_scaled, columns=X_all.columns)\n",
    "X_all_scaled.head(3)"
   ]
  },
  {
   "cell_type": "markdown",
   "metadata": {},
   "source": [
    "Neste momento todos os dados estão normalizados numa escala de 0 a 1.\n",
    "\n",
    "Com isso, iremos reexecutar todos os modelos."
   ]
  },
  {
   "cell_type": "code",
   "execution_count": 10,
   "metadata": {},
   "outputs": [
    {
     "name": "stdout",
     "output_type": "stream",
     "text": [
      "-----------> KNN\n",
      "Precision: 0.984599779239\n",
      "Recall: 0.982971126211\n",
      "F1: 0.982926660407\n",
      "-----------> Randomforest\n",
      "Precision: 0.986836087571\n",
      "Recall: 0.985408130853\n",
      "F1: 0.985391131207\n",
      "-----------> NB\n",
      "Precision: 0.600340913077\n",
      "Recall: 0.601272098728\n",
      "F1: 0.557255082252\n"
     ]
    }
   ],
   "source": [
    "run_all_models(X_all_scaled, y_all)"
   ]
  },
  {
   "cell_type": "markdown",
   "metadata": {},
   "source": [
    "### Resultados após o Scaling\n",
    "\n",
    "Em todas as métricas houve uma pequena perda entre a baseline e o novo resultado.\n",
    "\n",
    "|              | Precision | Recall | F1     |\n",
    "|--------------|-----------|--------|--------|\n",
    "| KNN          |    0.9845 | 0.9829 | 0.9829 |\n",
    "| RandomForest |    0.9868 | 0.9854 | 0.9853 |\n",
    "| GaussianNB   |    0.6003 | 0.6012 | 0.5572 |"
   ]
  },
  {
   "cell_type": "markdown",
   "metadata": {},
   "source": [
    "### Importância das _Features_\n",
    "\n",
    "No _dataset_ nem todas as _features_ tem a mesma importância para a definição do modelo. Aqui vamos verificar as variáveis mais relevantes e excluir as menos relevantes.\n",
    "\n",
    "Será utilizado o algoritmo de árvore de classificação [sklearn.ensemble.ExtraTreesClassifier](http://scikit-learn.org/stable/modules/generated/sklearn.ensemble.ExtraTreesClassifier.html) para definir as variáveis com maior importância dentro do dataset"
   ]
  },
  {
   "cell_type": "code",
   "execution_count": 11,
   "metadata": {},
   "outputs": [
    {
     "name": "stdout",
     "output_type": "stream",
     "text": [
      "1. feature 10 (0.120385)\n",
      "2. feature 9 (0.101836)\n",
      "3. feature 14 (0.099717)\n",
      "4. feature 7 (0.091356)\n",
      "5. feature 6 (0.077401)\n",
      "6. feature 12 (0.073062)\n",
      "7. feature 13 (0.071972)\n",
      "8. feature 16 (0.071742)\n",
      "9. feature 5 (0.063524)\n",
      "10. feature 8 (0.057285)\n",
      "11. feature 15 (0.052899)\n",
      "12. feature 11 (0.043311)\n",
      "13. feature 2 (0.018636)\n",
      "14. feature 4 (0.017101)\n",
      "15. feature 3 (0.015536)\n",
      "16. feature 0 (0.013829)\n",
      "17. feature 1 (0.010408)\n"
     ]
    },
    {
     "data": {
      "image/png": "[encoded data removed]",
      "text/plain": [
       "<matplotlib.figure.Figure at 0xc824f60>"
      ]
     },
     "metadata": {},
     "output_type": "display_data"
    }
   ],
   "source": [
    "from sklearn.ensemble import ExtraTreesClassifier\n",
    "\n",
    "feature_importance = ExtraTreesClassifier(n_estimators=150,\n",
    "                              random_state=0)\n",
    "feature_importance = feature_importance.fit(X_all_scaled, y_all.values.ravel())\n",
    "importances = feature_importance.feature_importances_\n",
    "std = np.std([tree.feature_importances_ for tree in feature_importance.estimators_],\n",
    "             axis=0)\n",
    "indices = np.argsort(importances)[::-1]\n",
    "\n",
    "for f in range(X_all_scaled.shape[1]):\n",
    "    print(\"%d. feature %d (%f)\" % (f + 1, indices[f], importances[indices[f]]))\n",
    "\n",
    "# Plot the feature importances of the forest\n",
    "plt.figure()\n",
    "plt.title(\"Importância das Features\")\n",
    "plt.bar(range(X_all_scaled.shape[1]), importances[indices],\n",
    "       color=\"r\", yerr=std[indices], align=\"center\")\n",
    "plt.xticks(range(X_all_scaled.shape[1]), indices)\n",
    "plt.xlim([-1, X_all_scaled.shape[1]])\n",
    "plt.show()"
   ]
  },
  {
   "cell_type": "code",
   "execution_count": 12,
   "metadata": {},
   "outputs": [
    {
     "data": {
      "text/plain": [
       "Index(['z2', 'y2', 'x4', 'z1', 'y1', 'y3', 'z3', 'z4', 'x1', 'x2', 'y4', 'x3',\n",
       "       'how_tall_in_meters', 'body_mass_index', 'weight', 'gender', 'age'],\n",
       "      dtype='object')"
      ]
     },
     "execution_count": 12,
     "metadata": {},
     "output_type": "execute_result"
    }
   ],
   "source": [
    "X_all.columns[[10,9,14,7,6,12,13,16,5,8,15,11,2,4,3,0,1]]"
   ]
  },
  {
   "cell_type": "markdown",
   "metadata": {},
   "source": [
    "Pelo gráfico podemos ver que as variávies cujo índice estão no _range_ de 0 a 4 pouco influenciam no modelo. Tratam-se de variáveis de características pessoais dos dados coletados: altura em metros (how_tall_in_meters), índice de massa corpórea (body_mass_index), peso (weight), gênero (gender) e idade (age). Para continuarmos os testes, irei excluir estas variáveis e manter apenas as variáveis referentes aos eixos e reexecutar os algoritmos.|"
   ]
  },
  {
   "cell_type": "code",
   "execution_count": 13,
   "metadata": {},
   "outputs": [
    {
     "name": "stdout",
     "output_type": "stream",
     "text": [
      "-----------> KNN\n",
      "Precision: 0.983813888927\n",
      "Recall: 0.982090248181\n",
      "F1: 0.982047628864\n",
      "-----------> Randomforest\n",
      "Precision: 0.982037188437\n",
      "Recall: 0.980138811013\n",
      "F1: 0.98008318135\n",
      "-----------> NB\n",
      "Precision: 0.630323053549\n",
      "Recall: 0.615781137915\n",
      "F1: 0.573917180871\n"
     ]
    }
   ],
   "source": [
    "X_all_reduced = X_all_scaled[X_all_scaled.columns[[10,9,14,7,6,12,13,16,5,8,15,11]]]\n",
    "run_all_models(X_all_reduced, y_all)"
   ]
  },
  {
   "cell_type": "markdown",
   "metadata": {},
   "source": [
    "### Resultado apó as remoção das variáveis\n",
    "\n",
    "Em todas as métricas houve uma pequena perda. Contudo não são perdas significativas ao meu ver.\n",
    "\n",
    "|              | Precision | Recall | F1     |\n",
    "|--------------|-----------|--------|--------|\n",
    "| KNN          |    0.9838 | 0.9820 | 0.9820 |\n",
    "| RandomForest |    0.9820 | 0.9801 | 0.9800 |\n",
    "| GaussianNB   |    0.6303 | 0.6157 | 0.5739 |"
   ]
  },
  {
   "cell_type": "markdown",
   "metadata": {},
   "source": [
    "### Reduzindo a dimensionalidade\n",
    "\n",
    "Já reduzimos os números de _features_ originais de 18 para 12. Apesar do desempenho ter sido um pouco pior, lembramos aqui que não foi feito nenhum refinamento nos algoritmos.\n",
    "\n",
    "Agora tentaremos reduzir ainda mais a dimensionalidade aplicando o PCA, buscando entender com quantas variáveis a variância dos dados é explicada."
   ]
  },
  {
   "cell_type": "code",
   "execution_count": 14,
   "metadata": {},
   "outputs": [
    {
     "data": {
      "image/png": "[encoded data removed]",
      "text/plain": [
       "<matplotlib.figure.Figure at 0xfe1d470>"
      ]
     },
     "metadata": {},
     "output_type": "display_data"
    }
   ],
   "source": [
    "from sklearn.decomposition import PCA\n",
    "pca = PCA().fit(X_all_reduced)\n",
    "plt.plot(np.cumsum(pca.explained_variance_ratio_))\n",
    "plt.xlabel('Número de componentes')\n",
    "plt.ylabel('Variância cumulativa explicada')\n",
    "plt.show()"
   ]
  },
  {
   "cell_type": "markdown",
   "metadata": {},
   "source": [
    "Como podemos ver pelo gráfico, mais de 99% da variância é explicada por 8 ou 9 componentes. Portanto criaremos um dataset com 8 componentes principais e rodaremos novamente os modelos."
   ]
  },
  {
   "cell_type": "code",
   "execution_count": 15,
   "metadata": {
    "collapsed": true
   },
   "outputs": [],
   "source": [
    "pca = PCA(n_components = 8)\n",
    "principalComponents = pca.fit_transform(X_all_reduced)\n",
    "X_pca = pd.DataFrame(data=principalComponents, \n",
    "                    columns=['p1','p2','p3','p4', 'p5', 'p6', 'p7', 'p8'])"
   ]
  },
  {
   "cell_type": "code",
   "execution_count": 16,
   "metadata": {},
   "outputs": [
    {
     "name": "stdout",
     "output_type": "stream",
     "text": [
      "-----------> KNN\n",
      "Precision: 0.979590195476\n",
      "Recall: 0.978290342631\n",
      "F1: 0.978260236282\n",
      "-----------> Randomforest\n",
      "Precision: 0.96907388952\n",
      "Recall: 0.965740361025\n",
      "F1: 0.965614652339\n",
      "-----------> NB\n",
      "Precision: 0.687410350247\n",
      "Recall: 0.664736025915\n",
      "F1: 0.629830732113\n"
     ]
    }
   ],
   "source": [
    "run_all_models(X_pca, y_all)"
   ]
  },
  {
   "cell_type": "markdown",
   "metadata": {},
   "source": [
    "### Resultados após o PCA\n",
    "\n",
    "Mais uma vez houve uma perda da performance dos indicadores, apenas o GaussianNB teve uma melhora, contudo os algoritmos rodaram substancialmente mais rápidos. Reforço que ainda não foi feita a hiperparametrização dos algoritmos.\n",
    "\n",
    "|              | Precision | Recall | F1     |\n",
    "|--------------|-----------|--------|--------|\n",
    "| KNN          |    0.9795 | 0.9782 | 0.9782 |\n",
    "| RandomForest |    0.9690 | 0.9657 | 0.9656 |\n",
    "| GaussianNB   |    0.6874 | 0.6647 | 0.6298 |"
   ]
  },
  {
   "cell_type": "markdown",
   "metadata": {},
   "source": [
    "## Refinamento dos modelos\n",
    "\n",
    "Para o refinamento dos modelos vamos partir do último dataset que temos após a execução do PCA, ou seja, `X_pca` e `y_all`.\n",
    "\n",
    "A ideia nesta sessão é utilizar o objeto [sklearn.model_selection.GridSearchCV](http://scikit-learn.org/stable/modules/generated/sklearn.model_selection.GridSearchCV.html) para refinar os hiper-parâmetros dos algoritmos.\n"
   ]
  },
  {
   "cell_type": "code",
   "execution_count": 17,
   "metadata": {
    "collapsed": true
   },
   "outputs": [],
   "source": [
    "from sklearn.model_selection import GridSearchCV, RandomizedSearchCV\n",
    "from sklearn.metrics import precision_score, confusion_matrix, recall_score, f1_score\n",
    "from sklearn.multiclass import OneVsRestClassifier\n",
    "import itertools\n",
    "def refine_model(model, parameters, _X_train, _y_train, _X_test, _y_test):\n",
    "    grid_search = GridSearchCV(model, parameters, n_jobs=4)\n",
    "    grid_search.fit(_X_train, _y_train.values.ravel())\n",
    "    be = grid_search.best_estimator_\n",
    "    pred = be.predict(_X_test)\n",
    "    np.set_printoptions(precision=2)\n",
    "    plt.figure()\n",
    "    plot_confusion_matrix(confusion_matrix(_y_test, pred), classes=wearable_data['class'].unique(),\n",
    "                      title='Confusion matrix, without normalization')\n",
    "    np.set_printoptions(precision=2)\n",
    "    plt.show()\n",
    "\n",
    "    print(\"Precision:\",precision_score(_y_test, pred, average=\"macro\"))\n",
    "    print(\"Recall:\", recall_score(_y_test, pred, average=\"macro\"))\n",
    "    print(\"F1 Score:\", f1_score(_y_test, pred, average=\"macro\"))\n",
    "\n",
    "\n",
    "    return be\n",
    "\n",
    "def plot_confusion_matrix(cm, classes,\n",
    "                          normalize=False,\n",
    "                          title='Confusion matrix',\n",
    "                          cmap=plt.cm.Blues):\n",
    "    \"\"\"\n",
    "    This function prints and plots the confusion matrix.\n",
    "    Normalization can be applied by setting `normalize=True`.\n",
    "    \"\"\"\n",
    "    if normalize:\n",
    "        cm = cm.astype('float') / cm.sum(axis=1)[:, np.newaxis]\n",
    "        print(\"Normalized confusion matrix\")\n",
    "    else:\n",
    "        print('Confusion matrix, without normalization')\n",
    "\n",
    "    print(cm)\n",
    "\n",
    "    plt.imshow(cm, interpolation='nearest', cmap=cmap)\n",
    "    plt.title(title)\n",
    "    plt.colorbar()\n",
    "    tick_marks = np.arange(len(classes))\n",
    "    plt.xticks(tick_marks, classes, rotation=45)\n",
    "    plt.yticks(tick_marks, classes)\n",
    "\n",
    "    fmt = '.2f' if normalize else 'd'\n",
    "    thresh = cm.max() / 2.\n",
    "    for i, j in itertools.product(range(cm.shape[0]), range(cm.shape[1])):\n",
    "        plt.text(j, i, format(cm[i, j], fmt),\n",
    "                 horizontalalignment=\"center\",\n",
    "                 color=\"white\" if cm[i, j] > thresh else \"black\")\n",
    "\n",
    "    plt.tight_layout()\n",
    "    plt.ylabel('True label')\n",
    "    plt.xlabel('Predicted label')"
   ]
  },
  {
   "cell_type": "code",
   "execution_count": 18,
   "metadata": {
    "collapsed": true
   },
   "outputs": [],
   "source": [
    "# Quebrando o dataset em treino e teste\n",
    "from sklearn.model_selection import train_test_split\n",
    "\n",
    "X_train, X_test, y_train, y_test = train_test_split(X_pca, y_all, test_size=0.35, random_state=1973)"
   ]
  },
  {
   "cell_type": "code",
   "execution_count": 19,
   "metadata": {},
   "outputs": [
    {
     "name": "stdout",
     "output_type": "stream",
     "text": [
      "Confusion matrix, without normalization\n",
      "[[17526     3     0     9     0]\n",
      " [    0 17788     1    35     4]\n",
      " [    0    11 17637    44    37]\n",
      " [    3    34    15 17787    10]\n",
      " [    0    80   190   100 17291]]\n"
     ]
    },
    {
     "data": {
      "image/png": "[encoded data removed]",
      "text/plain": [
       "<matplotlib.figure.Figure at 0xcad26d8>"
      ]
     },
     "metadata": {},
     "output_type": "display_data"
    },
    {
     "name": "stdout",
     "output_type": "stream",
     "text": [
      "Precision: 0.993547890267\n",
      "Recall: 0.993491834362\n",
      "F1 Score: 0.993497736014\n"
     ]
    }
   ],
   "source": [
    "# Definindo os hiperparâmetros do KNeighborsClassifier\n",
    "parameters = {'n_neighbors':[3,5], 'p':[1,2], 'weights':['uniform', 'distance']}\n",
    "model_knn = refine_model(KNeighborsClassifier(), parameters, X_train, y_train, X_test, y_test)"
   ]
  },
  {
   "cell_type": "code",
   "execution_count": 20,
   "metadata": {},
   "outputs": [
    {
     "name": "stdout",
     "output_type": "stream",
     "text": [
      "Confusion matrix, without normalization\n",
      "[[17501     3     0    34     0]\n",
      " [    0 17745     7    53    23]\n",
      " [    0    11 17580    44    94]\n",
      " [    2    99    52 17641    55]\n",
      " [    0    56   100    69 17436]]\n"
     ]
    },
    {
     "data": {
      "image/png": "[encoded data removed]",
      "text/plain": [
       "<matplotlib.figure.Figure at 0xc8f3198>"
      ]
     },
     "metadata": {},
     "output_type": "display_data"
    },
    {
     "name": "stdout",
     "output_type": "stream",
     "text": [
      "Precision: 0.992102009861\n",
      "Recall: 0.992087427747\n",
      "F1 Score: 0.992092897501\n"
     ]
    }
   ],
   "source": [
    "# Definindo os parâmetros do RandomForestClassifier\n",
    "parameters = {\"n_estimators\" : [10,250]\n",
    "            ,\"min_samples_split\" :[2,4,6]\n",
    "            ,\"min_samples_leaf\": [3,5]\n",
    "            ,\"criterion\": ('gini','entropy')}\n",
    "model_rf = refine_model(RandomForestClassifier(), parameters, X_train, y_train, X_test, y_test)"
   ]
  },
  {
   "cell_type": "markdown",
   "metadata": {},
   "source": [
    "O algoritmo [sklearn.naive_bayes.GaussianNB](http://scikit-learn.org/stable/modules/generated/sklearn.naive_bayes.GaussianNB.html) não possui parâmetros para ser refinado com o GridSearchCV. Porém vamos criar o modelo para ser utilizado na próxima sessão."
   ]
  },
  {
   "cell_type": "code",
   "execution_count": 21,
   "metadata": {},
   "outputs": [
    {
     "name": "stdout",
     "output_type": "stream",
     "text": [
      "Precision: 0.718834652877\n",
      "Recall: 0.699701413197\n",
      "F1 Score: 0.66315773533\n"
     ]
    }
   ],
   "source": [
    "# Definindo os parâmetros do RandomForestClassifier\n",
    "model_gnb = GaussianNB()\n",
    "model_gnb.fit(X_train, y_train.values.ravel())\n",
    "pred = model_gnb.predict(X_test)\n",
    "print(\"Precision:\",precision_score(y_test, pred, average=\"macro\"))\n",
    "print(\"Recall:\", recall_score(y_test, pred, average=\"macro\"))\n",
    "print(\"F1 Score:\", f1_score(y_test, pred, average=\"macro\"))"
   ]
  },
  {
   "cell_type": "markdown",
   "metadata": {},
   "source": [
    "### Resultados após o refinamento\n",
    "\n",
    "Após o refinamento os modelos feitos com o KNN e o Random Forest tiveram ganhos de performance, superando 0.99 para o F1. Segue a tabela abaixo:\n",
    "\n",
    "|              | Precision | Recall | F1     |\n",
    "|--------------|-----------|--------|--------|\n",
    "| KNN          |    0.9935 | 0.9934 | 0.9934 |\n",
    "| RandomForest |    0.9921 | 0.9920 | 0.9920 |\n",
    "| GaussianNB   |    0.7188 | 0.6997 | 0.6631 |\n",
    "\n",
    "Até aqui, o KNN parece ser o melhor algoritmo dentre os três analisados para o cenário apresentado."
   ]
  },
  {
   "cell_type": "markdown",
   "metadata": {},
   "source": [
    "## Scores por classe\n",
    "\n",
    "Nesta sessão iremos rodar o modelo por classe do dataset. Vamos utilzar uma estratégia de classificação multi-classe chamada One-vs-all (ou One-vs-rest). Nesta estratégia é construido um classificador por classe. Para cada classificador a classe é modelada contra todas as outras classes. \n",
    "\n",
    "Utilizaremos o objeto [sklearn.multiclass.OneVsRestClassifier](http://scikit-learn.org/stable/modules/generated/sklearn.multiclass.OneVsRestClassifier.html).\n",
    "\n",
    "Nesta fase final, comparando os _scores_ por classe, poderemos fazer o _benchmark_ com o problema original elaborado pela PUC-Rio."
   ]
  },
  {
   "cell_type": "code",
   "execution_count": 22,
   "metadata": {
    "collapsed": true
   },
   "outputs": [],
   "source": [
    "from sklearn.preprocessing import label_binarize\n",
    "y_bin = label_binarize(y_all, y_all['class'].unique())\n",
    "n_classes = y_bin.shape[1]"
   ]
  },
  {
   "cell_type": "code",
   "execution_count": 23,
   "metadata": {
    "collapsed": true
   },
   "outputs": [],
   "source": [
    "X_train, X_test, y_train, y_test = train_test_split(X_pca, y_bin, test_size=.35,\n",
    "                                                    random_state=1973)"
   ]
  },
  {
   "cell_type": "code",
   "execution_count": 24,
   "metadata": {
    "collapsed": true
   },
   "outputs": [],
   "source": [
    "from sklearn.multiclass import OneVsRestClassifier\n",
    "from sklearn.metrics import roc_auc_score, f1_score, recall_score, precision_score\n",
    "\n",
    "def score_by_class(model, _X_train, _y_train, _X_test, _y_test):\n",
    "    classifier = OneVsRestClassifier(model)\n",
    "    classifier.fit(_X_train, _y_train)\n",
    "    y_score = classifier.predict_proba(_X_test)\n",
    "    y_pred = classifier.predict(_X_test)\n",
    "    class_precision = dict()\n",
    "    class_recall = dict()\n",
    "    class_auc = dict()\n",
    "    class_f1 = dict()\n",
    "    for i in range(n_classes):\n",
    "        class_auc[i] = roc_auc_score(_y_test[:, i],y_score[:, i])\n",
    "        class_f1[i] = f1_score(_y_test[:, i], y_pred[:, i], average=\"macro\")\n",
    "        class_recall[i] = recall_score(_y_test[:, i], y_pred[:, i], average=\"macro\")\n",
    "        class_precision[i] = precision_score(_y_test[:, i], y_pred[:, i], average=\"macro\")\n",
    "        \n",
    "    print(\"Precision:\" , class_precision)\n",
    "    print(\"Recall:\", class_recall)\n",
    "    print(\"F1 score:\", class_f1)\n",
    "    print(\"AUC score:\", class_auc)\n"
   ]
  },
  {
   "cell_type": "code",
   "execution_count": 25,
   "metadata": {},
   "outputs": [
    {
     "name": "stdout",
     "output_type": "stream",
     "text": [
      "Precision: {0: 0.9998300108393734, 1: 0.99616529188517178, 2: 0.9936531239674733, 3: 0.99443440159403018, 4: 0.99592759461958624}\n",
      "Recall: {0: 0.99963677889099667, 1: 0.99795293928790785, 2: 0.99594510007413861, 3: 0.99693495216010819, 4: 0.98892480044790321}\n",
      "F1 score: {0: 0.9997333599399818, 1: 0.9970560498797949, 2: 0.99479406854951136, 3: 0.99567864485100355, 4: 0.99237958424344419}\n",
      "AUC score: {0: 0.99980040044928875, 1: 0.99928281729395274, 2: 0.99818886013714303, 3: 0.99902702446720149, 4: 0.99451184964043804}\n"
     ]
    }
   ],
   "source": [
    "score_by_class(model_knn, X_train, y_train, X_test, y_test)"
   ]
  },
  {
   "cell_type": "code",
   "execution_count": 26,
   "metadata": {},
   "outputs": [
    {
     "name": "stdout",
     "output_type": "stream",
     "text": [
      "Precision: {0: 0.99964752103775756, 1: 0.99507859260026943, 2: 0.99450993101256047, 3: 0.9942046483933531, 4: 0.99376119093707416}\n",
      "Recall: {0: 0.99878852883986391, 1: 0.9945589770401646, 2: 0.99157403354339135, 3: 0.99015259506019748, 4: 0.98759622017742199}\n",
      "F1 score: {0: 0.99921733447120131, 1: 0.99481852515359181, 2: 0.9930337278125505, 3: 0.99216278277139891, 4: 0.99064238168622387}\n",
      "AUC score: {0: 0.99999790512157793, 1: 0.99989165148102255, 2: 0.99983524988819394, 3: 0.99979305719720035, 4: 0.99969691613430678}\n"
     ]
    }
   ],
   "source": [
    "score_by_class(model_rf, X_train, y_train, X_test, y_test)"
   ]
  },
  {
   "cell_type": "code",
   "execution_count": 27,
   "metadata": {},
   "outputs": [
    {
     "name": "stdout",
     "output_type": "stream",
     "text": [
      "Precision: {0: 0.90464223358754636, 1: 0.73528947627669916, 2: 0.78794027133027122, 3: 0.70106795268052569, 4: 0.82440360795520429}\n",
      "Recall: {0: 0.96581352417982247, 1: 0.80460251849047515, 2: 0.88371316828264979, 3: 0.57142190396398918, 4: 0.80219382368465675}\n",
      "F1 score: {0: 0.93058833084752623, 1: 0.75643030122464872, 2: 0.8161752100994224, 3: 0.57914477941642517, 4: 0.81249449175852262}\n",
      "AUC score: {0: 0.98551900648210911, 1: 0.8849631909928769, 2: 0.94687958799001137, 3: 0.79634288700625722, 4: 0.91062808459613409}\n"
     ]
    }
   ],
   "source": [
    "score_by_class(model_gnb, X_train, y_train, X_test, y_test)"
   ]
  },
  {
   "cell_type": "markdown",
   "metadata": {},
   "source": [
    "### Resultados por classe\n",
    "\n",
    "#### KNeighborsClassifier\n",
    "\n",
    "|              | Precision | Recall | F1     | ROC AUC |\n",
    "|--------------|-----------|--------|--------|---------|\n",
    "| sitting      |    0.9998 | 0.9996 | 0.9997 |  0.9998 |\n",
    "| sittingdown  |    0.9961 | 0.9979 | 0.9970 |  0.9992 |\n",
    "| standing     |    0.9936 | 0.9959 | 0.9947 |  0.9981 |\n",
    "| standingup   |    0.9944 | 0.9969 | 0.9956 |  0.9990 |\n",
    "| walking      |    0.9959 | 0.9875 | 0.9923 |  0.9945 |\n",
    "\n",
    "#### RandomForestClassifier\n",
    "\n",
    "|              | Precision | Recall | F1     | ROC AUC |\n",
    "|--------------|-----------|--------|--------|---------|\n",
    "| sitting      |    0.9996 | 0.9987 | 0.9992 |  0.9999 |\n",
    "| sittingdown  |    0.9950 | 0.9945 | 0.9948 |  0.9998 |\n",
    "| standing     |    0.9945 | 0.9915 | 0.9930 |  0.9998 |\n",
    "| standingup   |    0.9942 | 0.9901 | 0.9921 |  0.9997 |\n",
    "| walking      |    0.9937 | 0.9878 | 0.9906 |  0.9996 |\n",
    "\n",
    "\n",
    "#### GaussianNB\n",
    "\n",
    "|              | Precision | Recall | F1     | ROC AUC |\n",
    "|--------------|-----------|--------|--------|---------|\n",
    "| sitting      |    0.9046 | 0.9658 | 0.9305 |  0.9855 |\n",
    "| sittingdown  |    0.7352 | 0.8046 | 0.7564 |  0.8849 |\n",
    "| standing     |    0.7879 | 0.8837 | 0.8161 |  0.9468 |\n",
    "| standingup   |    0.7010 | 0.5714 | 0.5791 |  0.7963 |\n",
    "| walking      |    0.8244 | 0.8021 | 0.8124 |  0.9106 |\n",
    "\n",
    "#### Resultado final do estudo feito pela PUC Rio\n",
    "\n",
    "|              | Precision | Recall | F1     | ROC AUC |\n",
    "|--------------|-----------|--------|--------|---------|\n",
    "| sitting      |    1.0000 | 0.9990 | 0.9990 |  1.0000 |\n",
    "| sittingdown  |    0.9690 | 0.9710 | 0.9700 |  0.9990 |\n",
    "| standing     |    0.9980 | 0.9990 | 0.9990 |  1.0000 |\n",
    "| standingup   |    0.9690 | 0.9620 | 0.9650 |  0.9990 |\n",
    "| walking      |    0.9980 | 0.9980 | 0.9980 |  1.0000 |\n",
    "\n"
   ]
  },
  {
   "cell_type": "markdown",
   "metadata": {},
   "source": [
    "## Conclusão\n",
    "\n",
    "Os números do trabalho da PUC Rio parecem ser melhores comparados aos três algoritmos testados. Com relação ao GaussianNB o resultado é bem melhor no estudo original.\n",
    "\n",
    "Comparado ao RandomForestClassifier e ao KNeighborsClassifier a diferença é mínima quando observamos o F1 e o ROC. O resultado pode ser observado nas tabelas acima, na sessão **Resultados por Classe**.\n",
    "\n",
    "Em relação ao benchmark inicial, foi possível superar o resultado inicial mesmo utilizando apenas 8 componentes principais e refinando os algoritmos com o `GridSearchCV`.\n",
    "Abaixo encontram-se ambos resultados para comparação:\n",
    "\n",
    "#### Benchmark\n",
    "\n",
    "|              | Precision | Recall | F1     |\n",
    "|--------------|-----------|--------|--------|\n",
    "| KNN          |    0.9860 | 0.9844 | 0.9844 |\n",
    "| RandomForest |    0.9852 | 0.9836 | 0.9836 |\n",
    "| GaussianNB   |    0.6004 | 0.6013 | 0.5573 |\n",
    "\n",
    "#### Após refinamento\n",
    "|              | Precision | Recall | F1     |\n",
    "|--------------|-----------|--------|--------|\n",
    "| KNN          |    0.9935 | 0.9934 | 0.9934 |\n",
    "| RandomForest |    0.9920 | 0.9920 | 0.9920 |\n",
    "| GaussianNB   |    0.7188 | 0.6997 | 0.6631 |\n",
    "\n",
    "Considero o Reconhecimento de Atividades Humanas uma área promissora devido todas as suas aplicações e aos resultados observados neste estudo da PUC Rio e confirmados pelo _capstone_ elaborado para este projeto final.\n"
   ]
  },
  {
   "cell_type": "code",
   "execution_count": null,
   "metadata": {
    "collapsed": true
   },
   "outputs": [],
   "source": []
  }
 ],
 "metadata": {
  "kernelspec": {
   "display_name": "Python 3",
   "language": "python",
   "name": "python3"
  },
  "language_info": {
   "codemirror_mode": {
    "name": "ipython",
    "version": 3
   },
   "file_extension": ".py",
   "mimetype": "text/x-python",
   "name": "python",
   "nbconvert_exporter": "python",
   "pygments_lexer": "ipython3",
   "version": "3.6.3"
  }
 },
 "nbformat": 4,
 "nbformat_minor": 2
}
